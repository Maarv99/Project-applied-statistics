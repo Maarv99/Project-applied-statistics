{
 "cells": [
  {
   "cell_type": "markdown",
   "metadata": {},
   "source": [
    "# Project proposal\n",
    "\n",
    "---\n",
    "\n",
    "Group name: Group E\n",
    "\n",
    "---\n"
   ]
  },
  {
   "cell_type": "markdown",
   "metadata": {},
   "source": [
    "## Introduction\n",
    "\n",
    "The introduction section includes\n",
    "\n",
    "-   an introduction to the subject matter you're investigating\n",
    "-   the motivation for your research question (citing any relevant literature)\n",
    "-   the general research question you wish to explore\n",
    "-   your hypotheses regarding the research question of interest."
   ]
  },
  {
   "cell_type": "markdown",
   "metadata": {},
   "source": [
    "\n",
    "## Data description\n",
    "\n",
    "In this section, you will describe the data set you wish to explore. This includes\n",
    "\n",
    "-   description of the observations in the data set,\n",
    "\n",
    "\n",
    "-   description of how the data was originally collected (not how you found the data but how the original curator of the data collected it).\n",
    "\n",
    "Die Daten wurden von nicht-kardiochirurgischen Patienten erhoben, die sich von August 2016 bis Juni 2017 einer Routine- oder Notoperation am Seoul National University Hospital, Seoul, Korea, unterzogen. Von den 7.051 in Frage kommenden Fällen wurden Fälle mit lokaler Anästhesie (239), unvollständiger Aufzeichnung (279) und Verlust von wesentlichen Datenspuren (145) ausgeschlossen. Schließlich wurden 6.388 Fälle (91 %), die eine Allgemeinanästhesie, Spinalanästhesie und Sedierung/Analgesie erhielten, in den Datensatz aufgenommen.\n",
    "Die Falldaten wurden mit dem Programm Vital Recorder (Version 1.7.4) welches die Daten über Kabel von mehreren Patientenüberwachungsgeräten bekam. Wurden mehrere Geräte, bei einem Patienten eingesetzt, wurden diese zeitsynchronisiert in die Daten mit aufgenommen.\n",
    "Die Aufzeichnungssysteme wurden über ein Jahr hinweg täglich 24 Stunden in 10 von den vorhandenen 34 Operationssälen verwendet.\n",
    "Dieselben Aufzeichnungssysteme wurden in 10 von 31 Operationssälen installiert, um über ein Jahr hinweg Daten zu sammeln. Das Aufzeichnungssystem war täglich 24 Stunden lang in Betrieb, und die Fallakten der einzelnen Patienten wurden automatisch separat aufgezeichnet. Die Aufzeichnung erfolgte sobald die Herzfrequenz als und die Sauerstoffsättigung erfasst wurden.\n",
    "Waren Herzfrequenz- und Sauerstoffsättigungssignale für mehr als 10 Minuten nach Ende der Überwachung nicht mehr erfasst, so wurde die Aufzeichnung gestoppt.\n",
    "Die Daten wurden noch während und auch nach der Aufzeichnung einer technischen Validierung unterzogen. Diese wurden noch über einen Code überprüft.\n",
    "Datensätze mit allen 0-Werten oder weniger als 10 Datenproben wurden gelöscht.\n",
    "Wellenformspuren ohne entsprechende numerische Spuren wurden gelöscht.\n",
    "Die Namen der Spuren wurden geändert, um die Benutzerfreundlichkeit des Datensatzes zu verbessern.\n",
    "Wenn in den Anästhesiedatensätzen ein femoraler arterieller Katheter bestätigt wurde, wurden die zugehörigen arteriellen Kurvenformen und numerischen Spuren von ART, ART_SBP, ART_DBP und ART_MBP in FEM, FEM_SBP, FEM_DBP bzw. FEM_MBP umbenannt.\n",
    "\"PUMP\" in den PUMP_RATE- und PUMP_VOL-Spuren wurde in spezifische Medikamentennamen geändert, die aus Infusionspumpendaten oder Anästhesieaufzeichnungen stammen (z. B. EPI_RATE, PPF20_VOL).\n",
    "Die demografischen, chirurgischen, anästhetischen, präoperativen, intraoperativen und Ergebnisdaten der Patienten wurden dem EMR-System entnommen und in den Datensatz aufgenommen. Die Ergebnisse der Labortests innerhalb von 90 Tagen vor und nach dem Beginn der Anästhesie wurden aus der EMR extrahiert, und alle nicht numerischen Zeichen wurden aus den Ergebnissen entfernt. Diese Informationen sind in separaten csv-Dateien im Datensatz organisiert.\n",
    "Anstelle der eigentlichen Patientennummer wurden den Fällen zufällige Operationsfallkennungen (caseid) zugewiesen (1-6.388); zur Identifizierung von Reoperationsfällen wurden außerdem individuelle Kennungen der Krankenhaus-ID (subjectid) hinzugefügt (1-6.090).\n",
    "Da die umbenannten Vitaldateien keine Informationen zur Patientenidentifikation mehr enthalten, wurde nur eine De-Identifizierung der Aufnahmezeit vorgenommen.\n",
    "Die Start- und Endzeit der Operation sowie die Start- und Endzeit der Anästhesie wurden aus der EMR extrahiert und in die Ereignisspur der Vitaldateien integriert.\n",
    "Der Startzeitpunkt der Aufzeichnung wurde auf \"0\" gesetzt und die anderen Zeiten wurden in die relative Zeit zum Startpunkt umgerechnet."
   ]
  },
  {
   "cell_type": "markdown",
   "metadata": {},
   "source": [
    "\n",
    "## Analysis approach\n",
    "\n",
    "In this section, you will provide a brief overview of your analysis approach. This includes:\n",
    "\n",
    "-   Description of the response variable.\n",
    "-   Visualization and summary statistics for the response variable.\n",
    "-   List of variables that will be considered as predictors\n",
    "-   Your model type (what kind of model(s) will you use ... e.g. linear regression)"
   ]
  },
  {
   "cell_type": "markdown",
   "metadata": {},
   "source": [
    "## Data dictionary\n",
    "\n",
    "*Create a data dictionary for all the variables in your data set. You may fill out the data description table or create your own table with Pandas:*\n",
    "\n",
    "<br>\n",
    "\n",
    "\n",
    "| Name  |   Description\t| Role   \t| Type   \t|  Format \t|\n",
    "|---\t|---\t        |---    \t|---\t    |---\t|\n",
    "|   \t|   \t        |   \t    |   \t    |   \t|\n",
    "|   \t|   \t        |   \t    |   \t    |   \t|\n",
    "|   \t|   \t        |   \t    |   \t    |   \t|\n",
    "\n",
    "\n",
    "<br>\n",
    "\n",
    "- `Role`: response, predictor, ID (ID columns are not used in a model but can help to better understand the data)\n",
    "\n",
    "- `Type`: nominal, ordinal or numeric\n",
    "\n",
    "- `Format`: int, float, string, category, date or object"
   ]
  }
 ],
 "metadata": {
  "kernelspec": {
   "display_name": "Python 3.9.14 ('stats')",
   "language": "python",
   "name": "python3"
  },
  "language_info": {
   "name": "python",
   "version": "3.9.14"
  },
  "orig_nbformat": 4,
  "vscode": {
   "interpreter": {
    "hash": "c048cbc752ae2043fc487ea59de5a2c2f19493d70eca1f21081a2fa3379b9b87"
   }
  }
 },
 "nbformat": 4,
 "nbformat_minor": 2
}
