{
 "cells": [
  {
   "attachments": {},
   "cell_type": "markdown",
   "metadata": {},
   "source": [
    "# Topic ideas\n",
    "\n",
    "---\n",
    "\n",
    "Group name: E\n",
    "\n",
    "---\n",
    "\n",
    "*Anm.: Wir haben erst nach der Abgabe der Topic ideas mit Github angefangen. Die Abgabe hat daher ein anderes Layout, der Inhalt ist aber identisch.*"
   ]
  },
  {
   "cell_type": "markdown",
   "metadata": {},
   "source": [
    "## Name of topic idea 1\n",
    "\n",
    "### Data source\n",
    "\n",
    "*State the source of the data set and describe when and how it was originally collected (by the original data curator, not necessarily how you found the data)*\n",
    "\n",
    "\n",
    "### Data characterisitcs\n",
    "\n",
    " *Describe the observations and the general characteristics being measured in the data (note that the data needs to meet the  criteria described in the project description)*\n",
    "\n",
    "### Research question\n",
    "\n",
    "*Describe a research question you're interested in answering using this data. State the response variable and possible predictor variables.*\n",
    "\n",
    "### Overview of data\n",
    "\n",
    "*Use the Pandas functions to provide an overview of the data set*\n"
   ]
  },
  {
   "cell_type": "code",
   "execution_count": null,
   "metadata": {},
   "outputs": [],
   "source": []
  },
  {
   "cell_type": "markdown",
   "metadata": {},
   "source": [
    "## Name of topic idea 2\n",
    "\n",
    "### Data source\n",
    "\n",
    "*State the source of the data set and describe when and how it was originally collected (by the original data curator, not necessarily how you found the data)*\n",
    "\n",
    "\n",
    "### Data characterisitcs\n",
    "\n",
    " *Describe the observations and the general characteristics being measured in the data (note that the data needs to meet the  criteria described in the project description)*\n",
    "\n",
    "### Research question\n",
    "\n",
    "*Describe a research question you're interested in answering using this data. State the response variable and possible predictor variables.*\n",
    "\n",
    "### Overview of data\n",
    "\n",
    "*Use the Pandas functions to provide an overview of the data set*\n"
   ]
  },
  {
   "cell_type": "code",
   "execution_count": null,
   "metadata": {},
   "outputs": [],
   "source": []
  }
 ],
 "metadata": {
  "kernelspec": {
   "display_name": "base",
   "language": "python",
   "name": "python3"
  },
  "language_info": {
   "name": "python",
   "version": "3.9.13 (main, Aug 25 2022, 23:51:50) [MSC v.1916 64 bit (AMD64)]"
  },
  "orig_nbformat": 4,
  "vscode": {
   "interpreter": {
    "hash": "666230ada2586c0c183578c6a6c6d0a857abf8cd4373d41172b75e122b73d7b5"
   }
  }
 },
 "nbformat": 4,
 "nbformat_minor": 2
}
