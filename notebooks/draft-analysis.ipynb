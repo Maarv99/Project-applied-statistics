{
 "cells": [
  {
   "attachments": {},
   "cell_type": "markdown",
   "metadata": {},
   "source": [
    "# Draft analysis \n",
    "\n",
    "---\n",
    "\n",
    "Group name: Group E\n",
    "\n",
    "---\n"
   ]
  },
  {
   "cell_type": "markdown",
   "metadata": {},
   "source": [
    "## Introduction\n",
    "\n",
    "*This section includes an introduction to the project motivation, data, and research question. Include a data dictionary* \n",
    "\n"
   ]
  },
  {
   "cell_type": "markdown",
   "metadata": {},
   "source": [
    "## Setup"
   ]
  },
  {
   "cell_type": "code",
   "execution_count": 2,
   "metadata": {},
   "outputs": [],
   "source": [
    "import pandas as pd\n",
    "import altair as alt"
   ]
  },
  {
   "cell_type": "markdown",
   "metadata": {},
   "source": [
    "## Data"
   ]
  },
  {
   "cell_type": "markdown",
   "metadata": {},
   "source": [
    "## Import data"
   ]
  },
  {
   "cell_type": "code",
   "execution_count": 3,
   "metadata": {},
   "outputs": [
    {
     "data": {
      "text/html": [
       "<div>\n",
       "<style scoped>\n",
       "    .dataframe tbody tr th:only-of-type {\n",
       "        vertical-align: middle;\n",
       "    }\n",
       "\n",
       "    .dataframe tbody tr th {\n",
       "        vertical-align: top;\n",
       "    }\n",
       "\n",
       "    .dataframe thead th {\n",
       "        text-align: right;\n",
       "    }\n",
       "</style>\n",
       "<table border=\"1\" class=\"dataframe\">\n",
       "  <thead>\n",
       "    <tr style=\"text-align: right;\">\n",
       "      <th></th>\n",
       "      <th>caseid</th>\n",
       "      <th>subjectid</th>\n",
       "      <th>casestart</th>\n",
       "      <th>caseend</th>\n",
       "      <th>anestart</th>\n",
       "      <th>aneend</th>\n",
       "      <th>opstart</th>\n",
       "      <th>opend</th>\n",
       "      <th>adm</th>\n",
       "      <th>dis</th>\n",
       "      <th>...</th>\n",
       "      <th>intraop_colloid</th>\n",
       "      <th>intraop_ppf</th>\n",
       "      <th>intraop_mdz</th>\n",
       "      <th>intraop_ftn</th>\n",
       "      <th>intraop_rocu</th>\n",
       "      <th>intraop_vecu</th>\n",
       "      <th>intraop_eph</th>\n",
       "      <th>intraop_phe</th>\n",
       "      <th>intraop_epi</th>\n",
       "      <th>intraop_ca</th>\n",
       "    </tr>\n",
       "  </thead>\n",
       "  <tbody>\n",
       "    <tr>\n",
       "      <th>0</th>\n",
       "      <td>1</td>\n",
       "      <td>5955</td>\n",
       "      <td>0</td>\n",
       "      <td>11542</td>\n",
       "      <td>-552</td>\n",
       "      <td>10848.0</td>\n",
       "      <td>1668</td>\n",
       "      <td>10368</td>\n",
       "      <td>-236220</td>\n",
       "      <td>627780</td>\n",
       "      <td>...</td>\n",
       "      <td>0</td>\n",
       "      <td>120</td>\n",
       "      <td>0.0</td>\n",
       "      <td>100</td>\n",
       "      <td>70</td>\n",
       "      <td>0</td>\n",
       "      <td>10</td>\n",
       "      <td>0</td>\n",
       "      <td>0</td>\n",
       "      <td>0</td>\n",
       "    </tr>\n",
       "    <tr>\n",
       "      <th>1</th>\n",
       "      <td>2</td>\n",
       "      <td>2487</td>\n",
       "      <td>0</td>\n",
       "      <td>15741</td>\n",
       "      <td>-1039</td>\n",
       "      <td>14921.0</td>\n",
       "      <td>1721</td>\n",
       "      <td>14621</td>\n",
       "      <td>-221160</td>\n",
       "      <td>1506840</td>\n",
       "      <td>...</td>\n",
       "      <td>0</td>\n",
       "      <td>150</td>\n",
       "      <td>0.0</td>\n",
       "      <td>0</td>\n",
       "      <td>100</td>\n",
       "      <td>0</td>\n",
       "      <td>20</td>\n",
       "      <td>0</td>\n",
       "      <td>0</td>\n",
       "      <td>0</td>\n",
       "    </tr>\n",
       "    <tr>\n",
       "      <th>2</th>\n",
       "      <td>3</td>\n",
       "      <td>2861</td>\n",
       "      <td>0</td>\n",
       "      <td>4394</td>\n",
       "      <td>-590</td>\n",
       "      <td>4210.0</td>\n",
       "      <td>1090</td>\n",
       "      <td>3010</td>\n",
       "      <td>-218640</td>\n",
       "      <td>40560</td>\n",
       "      <td>...</td>\n",
       "      <td>0</td>\n",
       "      <td>0</td>\n",
       "      <td>0.0</td>\n",
       "      <td>0</td>\n",
       "      <td>50</td>\n",
       "      <td>0</td>\n",
       "      <td>0</td>\n",
       "      <td>0</td>\n",
       "      <td>0</td>\n",
       "      <td>0</td>\n",
       "    </tr>\n",
       "    <tr>\n",
       "      <th>3</th>\n",
       "      <td>4</td>\n",
       "      <td>1903</td>\n",
       "      <td>0</td>\n",
       "      <td>20990</td>\n",
       "      <td>-778</td>\n",
       "      <td>20222.0</td>\n",
       "      <td>2522</td>\n",
       "      <td>17822</td>\n",
       "      <td>-201120</td>\n",
       "      <td>576480</td>\n",
       "      <td>...</td>\n",
       "      <td>0</td>\n",
       "      <td>80</td>\n",
       "      <td>0.0</td>\n",
       "      <td>100</td>\n",
       "      <td>100</td>\n",
       "      <td>0</td>\n",
       "      <td>50</td>\n",
       "      <td>0</td>\n",
       "      <td>0</td>\n",
       "      <td>0</td>\n",
       "    </tr>\n",
       "    <tr>\n",
       "      <th>4</th>\n",
       "      <td>5</td>\n",
       "      <td>4416</td>\n",
       "      <td>0</td>\n",
       "      <td>21531</td>\n",
       "      <td>-1009</td>\n",
       "      <td>22391.0</td>\n",
       "      <td>2591</td>\n",
       "      <td>20291</td>\n",
       "      <td>-67560</td>\n",
       "      <td>3734040</td>\n",
       "      <td>...</td>\n",
       "      <td>0</td>\n",
       "      <td>0</td>\n",
       "      <td>0.0</td>\n",
       "      <td>0</td>\n",
       "      <td>160</td>\n",
       "      <td>0</td>\n",
       "      <td>10</td>\n",
       "      <td>900</td>\n",
       "      <td>0</td>\n",
       "      <td>2100</td>\n",
       "    </tr>\n",
       "  </tbody>\n",
       "</table>\n",
       "<p>5 rows × 74 columns</p>\n",
       "</div>"
      ],
      "text/plain": [
       "   caseid  subjectid  casestart  caseend  anestart   aneend  opstart  opend  \\\n",
       "0       1       5955          0    11542      -552  10848.0     1668  10368   \n",
       "1       2       2487          0    15741     -1039  14921.0     1721  14621   \n",
       "2       3       2861          0     4394      -590   4210.0     1090   3010   \n",
       "3       4       1903          0    20990      -778  20222.0     2522  17822   \n",
       "4       5       4416          0    21531     -1009  22391.0     2591  20291   \n",
       "\n",
       "      adm      dis  ...  intraop_colloid  intraop_ppf intraop_mdz intraop_ftn  \\\n",
       "0 -236220   627780  ...                0          120         0.0         100   \n",
       "1 -221160  1506840  ...                0          150         0.0           0   \n",
       "2 -218640    40560  ...                0            0         0.0           0   \n",
       "3 -201120   576480  ...                0           80         0.0         100   \n",
       "4  -67560  3734040  ...                0            0         0.0           0   \n",
       "\n",
       "   intraop_rocu  intraop_vecu  intraop_eph  intraop_phe  intraop_epi  \\\n",
       "0            70             0           10            0            0   \n",
       "1           100             0           20            0            0   \n",
       "2            50             0            0            0            0   \n",
       "3           100             0           50            0            0   \n",
       "4           160             0           10          900            0   \n",
       "\n",
       "  intraop_ca  \n",
       "0          0  \n",
       "1          0  \n",
       "2          0  \n",
       "3          0  \n",
       "4       2100  \n",
       "\n",
       "[5 rows x 74 columns]"
      ]
     },
     "execution_count": 3,
     "metadata": {},
     "output_type": "execute_result"
    }
   ],
   "source": [
    "df = pd.read_csv(\"https://raw.githubusercontent.com/Maarv99/Project-applied-statistics/main/data/raw/clinical_data.csv\")\n",
    "df.head()"
   ]
  },
  {
   "cell_type": "markdown",
   "metadata": {},
   "source": [
    "### Data structure"
   ]
  },
  {
   "cell_type": "code",
   "execution_count": 4,
   "metadata": {},
   "outputs": [
    {
     "name": "stdout",
     "output_type": "stream",
     "text": [
      "<class 'pandas.core.frame.DataFrame'>\n",
      "RangeIndex: 6388 entries, 0 to 6387\n",
      "Data columns (total 74 columns):\n",
      " #   Column               Non-Null Count  Dtype  \n",
      "---  ------               --------------  -----  \n",
      " 0   caseid               6388 non-null   int64  \n",
      " 1   subjectid            6388 non-null   int64  \n",
      " 2   casestart            6388 non-null   int64  \n",
      " 3   caseend              6388 non-null   int64  \n",
      " 4   anestart             6388 non-null   int64  \n",
      " 5   aneend               6388 non-null   float64\n",
      " 6   opstart              6388 non-null   int64  \n",
      " 7   opend                6388 non-null   int64  \n",
      " 8   adm                  6388 non-null   int64  \n",
      " 9   dis                  6388 non-null   int64  \n",
      " 10  icu_days             6388 non-null   int64  \n",
      " 11  death_inhosp         6388 non-null   int64  \n",
      " 12  age                  6388 non-null   object \n",
      " 13  sex                  6388 non-null   object \n",
      " 14  height               6388 non-null   float64\n",
      " 15  weight               6388 non-null   float64\n",
      " 16  bmi                  6388 non-null   float64\n",
      " 17  asa                  6255 non-null   float64\n",
      " 18  emop                 6388 non-null   int64  \n",
      " 19  department           6388 non-null   object \n",
      " 20  optype               6388 non-null   object \n",
      " 21  dx                   6388 non-null   object \n",
      " 22  opname               6388 non-null   object \n",
      " 23  approach             6388 non-null   object \n",
      " 24  position             6194 non-null   object \n",
      " 25  ane_type             6388 non-null   object \n",
      " 26  preop_htn            6388 non-null   int64  \n",
      " 27  preop_dm             6388 non-null   int64  \n",
      " 28  preop_ecg            6388 non-null   object \n",
      " 29  preop_pft            6388 non-null   object \n",
      " 30  preop_hb             6047 non-null   float64\n",
      " 31  preop_plt            6047 non-null   float64\n",
      " 32  preop_pt             5998 non-null   float64\n",
      " 33  preop_aptt           5986 non-null   float64\n",
      " 34  preop_na             5765 non-null   float64\n",
      " 35  preop_k              5767 non-null   float64\n",
      " 36  preop_gluc           6010 non-null   float64\n",
      " 37  preop_alb            6016 non-null   float64\n",
      " 38  preop_ast            6022 non-null   float64\n",
      " 39  preop_alt            6024 non-null   float64\n",
      " 40  preop_bun            6023 non-null   float64\n",
      " 41  preop_cr             6016 non-null   float64\n",
      " 42  preop_ph             546 non-null    float64\n",
      " 43  preop_hco3           533 non-null    float64\n",
      " 44  preop_be             532 non-null    float64\n",
      " 45  preop_pao2           538 non-null    float64\n",
      " 46  preop_paco2          538 non-null    float64\n",
      " 47  preop_sao2           533 non-null    float64\n",
      " 48  cormack              5553 non-null   object \n",
      " 49  airway               5973 non-null   object \n",
      " 50  tubesize             4919 non-null   float64\n",
      " 51  dltubesize           930 non-null    object \n",
      " 52  lmasize              102 non-null    float64\n",
      " 53  iv1                  6313 non-null   object \n",
      " 54  iv2                  1437 non-null   object \n",
      " 55  aline1               3463 non-null   object \n",
      " 56  aline2               105 non-null    object \n",
      " 57  cline1               1541 non-null   object \n",
      " 58  cline2               60 non-null     object \n",
      " 59  intraop_ebl          3987 non-null   float64\n",
      " 60  intraop_uo           3707 non-null   float64\n",
      " 61  intraop_rbc          6388 non-null   int64  \n",
      " 62  intraop_ffp          6388 non-null   int64  \n",
      " 63  intraop_crystalloid  5980 non-null   float64\n",
      " 64  intraop_colloid      6388 non-null   int64  \n",
      " 65  intraop_ppf          6388 non-null   int64  \n",
      " 66  intraop_mdz          6388 non-null   float64\n",
      " 67  intraop_ftn          6388 non-null   int64  \n",
      " 68  intraop_rocu         6388 non-null   int64  \n",
      " 69  intraop_vecu         6388 non-null   int64  \n",
      " 70  intraop_eph          6388 non-null   int64  \n",
      " 71  intraop_phe          6388 non-null   int64  \n",
      " 72  intraop_epi          6388 non-null   int64  \n",
      " 73  intraop_ca           6388 non-null   int64  \n",
      "dtypes: float64(29), int64(25), object(20)\n",
      "memory usage: 3.6+ MB\n"
     ]
    }
   ],
   "source": [
    "df.info()"
   ]
  },
  {
   "cell_type": "markdown",
   "metadata": {},
   "source": [
    "### Data corrections"
   ]
  },
  {
   "cell_type": "code",
   "execution_count": null,
   "metadata": {},
   "outputs": [],
   "source": []
  },
  {
   "cell_type": "markdown",
   "metadata": {},
   "source": [
    "### Variable lists"
   ]
  },
  {
   "cell_type": "code",
   "execution_count": null,
   "metadata": {},
   "outputs": [],
   "source": []
  },
  {
   "cell_type": "markdown",
   "metadata": {},
   "source": [
    "### Data splitting"
   ]
  },
  {
   "cell_type": "code",
   "execution_count": null,
   "metadata": {},
   "outputs": [],
   "source": []
  },
  {
   "cell_type": "markdown",
   "metadata": {},
   "source": [
    "## Analysis"
   ]
  },
  {
   "cell_type": "markdown",
   "metadata": {},
   "source": [
    "### Descriptive statistics"
   ]
  },
  {
   "cell_type": "code",
   "execution_count": null,
   "metadata": {},
   "outputs": [],
   "source": []
  },
  {
   "cell_type": "markdown",
   "metadata": {},
   "source": [
    "### Exploratory data analysis"
   ]
  },
  {
   "cell_type": "code",
   "execution_count": null,
   "metadata": {},
   "outputs": [],
   "source": []
  },
  {
   "cell_type": "markdown",
   "metadata": {},
   "source": [
    "### Relationships"
   ]
  },
  {
   "cell_type": "code",
   "execution_count": null,
   "metadata": {},
   "outputs": [],
   "source": []
  },
  {
   "cell_type": "markdown",
   "metadata": {},
   "source": [
    "## Model"
   ]
  },
  {
   "cell_type": "markdown",
   "metadata": {},
   "source": [
    "### Select model"
   ]
  },
  {
   "cell_type": "code",
   "execution_count": null,
   "metadata": {},
   "outputs": [],
   "source": []
  },
  {
   "cell_type": "markdown",
   "metadata": {},
   "source": [
    "### Training and validation"
   ]
  },
  {
   "cell_type": "code",
   "execution_count": null,
   "metadata": {},
   "outputs": [],
   "source": []
  },
  {
   "cell_type": "markdown",
   "metadata": {},
   "source": [
    "### Fit model"
   ]
  },
  {
   "cell_type": "code",
   "execution_count": null,
   "metadata": {},
   "outputs": [],
   "source": []
  },
  {
   "cell_type": "markdown",
   "metadata": {},
   "source": [
    "### Evaluation on test set"
   ]
  },
  {
   "cell_type": "code",
   "execution_count": null,
   "metadata": {},
   "outputs": [],
   "source": []
  },
  {
   "cell_type": "markdown",
   "metadata": {},
   "source": [
    "### Save model\n"
   ]
  },
  {
   "cell_type": "markdown",
   "metadata": {},
   "source": [
    "\n",
    "Save your model in the folder `models/`. Use a meaningful name and a timestamp."
   ]
  },
  {
   "cell_type": "code",
   "execution_count": null,
   "metadata": {},
   "outputs": [],
   "source": []
  },
  {
   "cell_type": "markdown",
   "metadata": {},
   "source": [
    "## Conclusions"
   ]
  },
  {
   "cell_type": "markdown",
   "metadata": {},
   "source": []
  }
 ],
 "metadata": {
  "kernelspec": {
   "display_name": "stats",
   "language": "python",
   "name": "python3"
  },
  "language_info": {
   "codemirror_mode": {
    "name": "ipython",
    "version": 3
   },
   "file_extension": ".py",
   "mimetype": "text/x-python",
   "name": "python",
   "nbconvert_exporter": "python",
   "pygments_lexer": "ipython3",
   "version": "3.9.15"
  },
  "orig_nbformat": 4,
  "vscode": {
   "interpreter": {
    "hash": "a7e2a3bf7b76ff061ee41dbe46e6802f507aa07c5166dcea64cd485c3d51401f"
   }
  }
 },
 "nbformat": 4,
 "nbformat_minor": 2
}
