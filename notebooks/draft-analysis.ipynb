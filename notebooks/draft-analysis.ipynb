{
 "cells": [
  {
   "attachments": {},
   "cell_type": "markdown",
   "metadata": {},
   "source": [
    "# Draft analysis \n",
    "\n",
    "---\n",
    "\n",
    "Group name: Group E\n",
    "\n",
    "---\n"
   ]
  },
  {
   "attachments": {},
   "cell_type": "markdown",
   "metadata": {},
   "source": [
    "## Introduction\n",
    "\n",
    "*This section includes an introduction to the project motivation, data, and research question. Include a data dictionary* \n",
    "### Project Motivation\n",
    "1999 wurde in der Forschung (Collins et al.) ermittelt, dass die ASA-Klassifizierung des körperlichen Zustands, das Alter, Bluttransfusionen während der Operation und die Dauer von Operationen einen Aufschluss darüber geben, ob der Krankenhausaufenthalt des Patienten länger als gewöhnlich ausfallen wird.\n",
    "Des Weiteren gibt es zahlreiche Studien, bspw. die Forschung von Biber et al. (2012), Singler et al. (2013) oder Ogliari et al. (2022) die festgestellt haben, dass es eine Korrelation zwischen dem Alter von Patienten und der Verweildauer in Notaufnahmen gab.\n",
    "Dieser Frage möchten wir gerne nachgehen und versuchen, die Aufenthaltsdauer vorherzusagen\n",
    "\n",
    "### Data\n",
    "Uns liegen Daten von nicht-kardiochirurgischen Patienten vor, welche sich von August 2016 bis Juni 2017 einer Routine- oder Notoperation am Seoul National University Hospital, Seoul, Korea, unterzogen. Von den 7.051 in Frage kommenden Fällen wurden Fälle mit lokaler Anästhesie (239), unvollständiger Aufzeichnung (279) und Verlust von wesentlichen Datenspuren (145) ausgeschlossen. Schließlich wurden 6.388 Fälle (91 %), die eine Allgemeinanästhesie, Spinalanästhesie und Sedierung/Analgesie erhielten, in den Datensatz aufgenommen.\n",
    "Der Datensatz besteht aus intraoperativen Vitaldaten und perioperativen klinischen Informationen von 6.388 Fällen.\n",
    "Die Vitaldaten umfassen bis zu 12 Wellenform- und 184 numerische Datenspuren, die von mehreren Anästhesiegeräten erfasst wurden, die den Patienten während der Operation eingesetzt wurden.\n",
    "Die Daten wurden nicht vorverarbeitet, da das reale Rauschen in den Vitaldaten für die Entwicklung praktischer Überwachungsalgorithmen sehr wichtig ist.\n",
    "Insgesamt 74 perioperative klinische Informationsparameter und 34 Zeitreihen perioperativer Laborergebnisse werden zur Verfügung gestellt, um die Interpretation der Beziehung zu den intraoperativen Vitalzeichen zu erleichtern.\n",
    "\n",
    "### Research Question\n",
    "Wir stellen uns die Frage, welche dem Krankenhaus vorliegenden Daten die Aufenthaltsdauer von Patienten beeinflusst. Da der Datensatz des Seoul National University Hospital (Seoul, Korea) eine,Vielzahl von möglichen Variablen enthält werden wir uns vorerst auf den Zusammenhang zwischen dem Alter der Patienten und der Behandlungsdauer beschäftigen."
   ]
  },
  {
   "attachments": {},
   "cell_type": "markdown",
   "metadata": {},
   "source": [
    "### Data Dictionary\n",
    "| Name  |   Description\t| Role   \t| Type   \t|  Format \t|\n",
    "|---\t|---\t        |---    \t|---\t    |---\t|\n",
    "caseid\t|Fall-ID\t|ID\t|nominal\t|int64\n",
    "subjectid\t|Betreff-ID\t|ID\t|nominal\t|int64\n",
    "casestart\t|Startzeit der Aufzeichnung (immer 0)\t|ID\t|numerical\t|int64\n",
    "caseend\t|Endzeit der Aufzeichnung\t|response\t|numerical\t|int64\n",
    "anestart\t|Startzeit der Anästhesie\t\t|predictor|numerical\t|int64\n",
    "aneend\t|Anästhesie-Endzeit\t\t|predictor|numerical\t|float64\n",
    "opstart\t|Startzeit der Operation\t\t| predictor|numerical\t|int64\n",
    "opend\t|Endzeit der Operation\t\t|predictor|numerical\t|int64\n",
    "adm\t|Aufnahmezeit ab Fallbeginn in sec\t\t|ID|numerical\t|int64\n",
    "dis\t|Entlassungszeit ab Fallbeginn in sec\t\t|ID|numerical\t|int64\n",
    "icu_days\t|Aufenthalt im Krankenhaus in days\t|response\t|numerical\t|int64\n",
    "death_inhosp\t|In-Hospital-Mortalität\t|response\t|numerical\t|int64\n",
    "age\t|Alter in years\t|predictor\t|numerical\t|object\n",
    "sex\t|Geschlecht in M/F\t|predictor\t|nominal\t|object\n",
    "height\t|Größe in cm\t|predictor\t|numerical\t|float64\n",
    "weight\t|Gewicht in kg\t|predictor\t|numerical\t|float64\n",
    "bmi\t|Body-Mass-Index in kg/m2\t|predictor\t|numerical\t|float64\n",
    "asa\t|ASA-Klassifizierung des körperlichen Zustands\t|predictor\t|ordinal\t|float64\n",
    "emop\t|Notoperation\t|predictor\t|nominal\t|int64\n",
    "department\t|Chirurgische Abteilung\t|predictor\t|nominal\t|object\n",
    "optype\t|Art der Operation\t|predictor\t|nominal\t|object\n",
    "dx\t|Diagnose\t|response\t|nominal\t|object\n",
    "opname\t|Name der Operation\t|predictor\t|nominal\t|object\n",
    "approach\t|Chirurgischer Zugang\t|ID\t|nominal\t|object\n",
    "position\t|Chirurgische Position\t|ID\t|nominal\t|object\n",
    "ane_type\t|Art der Anästhesie\t\t|ID|nominal\t|object\n",
    "preop_htn\t|Präoperativer Bluthochdruck\t|predictor\t|ordinal\t|int64\n",
    "preop_dm\t|Präoperativer Diabetes\t|predictor\t|ordinal\t|int64\n",
    "preop_ecg\t|Preoperative Electrocardiogram\t|predictor\t|ordinal\t|object\n",
    "preop_pft\t|Präoperative pulmonale Funktion (Aufnahmeweg von Medikamenten)\t|predictor\t|ordinal\t|object\n",
    "preop_hb\t|Präoperatives Hämoglobin in g/dL\t|predictor\t|numerical\t|float64\n",
    "preop_plt\t|Präoperative Thrombozytenzahl in x1000/mcL\t|predictor\t|numerical\t|float64\n",
    "preop_pt\t|Präoperativer PT in %\t|predictor\t|numerical\t|float64\n",
    "preop_aptt\t|Präoperative aPTT in sec (Aktivierte partielle Thromboplastinzeit (Suchtest für Störungen bei der Blutgerinnung))\t|predictor\t|numerical\t|float64\n",
    "preop_na\t|Präoperativ Na in mmol/L (Natrium)\t|predictor\t|numerical\t|float64\n",
    "preop_k\t|Präoperativer K in mmol/L (Kalium)\t|predictor\t|numerical\t|float64\n",
    "preop_gluc\t|Präoperative Glukose in mg/dL\t|predictor\t|numerical\t|float64\n",
    "preop_alb\t|Präoperatives Albumin in g/dL\t|predictor\t|numerical\t|float64\n",
    "preop_ast\t|Präoperative GOT in IU/L (Asparat-Transferase)\t|predictor\t|numerical\t|float64\n",
    "preop_alt\t|Präoperative GPT in IU/L (Alanin-Transferase)\t|predictor\t|numerical\t|float64\n",
    "preop_bun\t|Präoperativer Blut-Harnstoff-Stickstoff in mg/dL\t|predictor\t|numerical\t|float64\n",
    "preop_cr\t|Präoperatives Kreatinin in mg/dL\t|predictor\t|numerical\t|float64\n",
    "preop_ph\t|Präoperativer pH-Wert\t|predictor\t|numerical\t|float64\n",
    "preop_hco3\t|Präoperativer HCO3- in mmol/L (Bikarbonat)\t|predictor\t|numerical\t|float64\n",
    "preop_be\t|Präoperativer Basenüberschuss in mmol/L\t|predictor\t|numerical\t|float64\n",
    "preop_pao2\t|Präoperativer PaO2 in mmHg (arterielle O2-Partialdruck (paO2) zeigt an, ob eine Oxygenation des Blutes während der Passage durch die Lunge erfolgt ist. Er bestimmt die zugehörige O2-Sätti- gung des Hämoglobins.)\t|predictor\t|numerical\t|float64\n",
    "preop_paco2\t|Präoperativer PaCO2 in mmHg (Kohlendioxidpartialdruck im arteriellen Blut (paCO2 oder auch pCO2(a)))\t|predictor\t|numerical\t|float64\n",
    "preop_sao2\t|Präoperativer SpO2 in % (Arterielle Sauerstoffsättigung)\t|predictor\t|numerical\t|float64\n",
    "cormack\t|Cormack'scher Grad  (direkte Sichtbarkeit von Elementen des Kehlkopfes)\t\t|ID|nominal\t|object\n",
    "airway\t|Atemweg\t\t|ID|nominal\t|object\n",
    "tubesize\t|Größe des Endotrachealtubus in mm (Hilfsmittel zur Sicherung der Atemwege im Bereich der Anästhesie)\t\t|ID|numerical\t|float64\n",
    "dltubesize\t|Größe des doppellumigen Tubus in Fr (Beatmungsgerät)\t\t|ID|numerical\t|object\n",
    "lmasize\t|LMA-Größe (Kehlkopfmaske (Beatmungsgerät))\t\t|ID|numerical\t|float64\n",
    "iv1\t|Lage der IV-Leitung (1)\t\t|ID|nominal\t|object\n",
    "iv2\t|Ort der IV-Leitung (2)\t\t|ID|nominal\t|object\n",
    "aline1\t|Stelle der arteriellen Leitung (1)\t\t|ID|nominal\t|object\n",
    "aline2\t|Lage der arteriellen Leitung (2)\t\t|ID|nominal\t|object\n",
    "cline1\t|Lage der zentralen Leitung (1)\t\t|ID|nominal\t|object\n",
    "cline2\t|Ort der zentralen Leitung (2)\t\t|ID|nominal\t|object\n",
    "intraop_ebl\t|Geschätzter Blutverlust in mL\t|predictor\t|numerical\t|float64\n",
    "intraop_uo\t|Intraoperative Urinausscheidung in mL\t|predictor\t|numerical\t|float64\n",
    "intraop_rbc\t|Intraoperative Rote Blutzellen-Transfusion in Unit\t|predictor\t|numerical\t|int64\n",
    "intraop_ffp\t|Intraoperative Gefrorenes Frischplasma-Transfusion in Unit\t|predictor\t|numerical\t|int64\n",
    "intraop_crystalloid\t|Intraoperatives Kristalloid in mL\t|predictor\t|numerical\t|float64\n",
    "intraop_colloid\t|Intraoperatives Kolloid in mL\t|predictor\t|numerical\t|int64\n",
    "intraop_ppf\t|Intraoperatives Propofol-Bolus in mg\t|predictor\t|numerical\t|int64\n",
    "intraop_mdz\t|Intraoperatives Midazolam in mg (Beruhigungsmittel)\t|predictor\t|numerical\t|float64\n",
    "intraop_ftn\t|Intraoperatives Fentanyl in mcg (narkotisierendes Analgetikum)\t|predictor\t|numerical\t|int64\n",
    "intraop_rocu\t|Intraoperatives Rocuronium in mg (wird häufig als Muskelrelaxans für längere Operationen eingesetzt)\t|predictor\t|numerical\t|int64\n",
    "intraop_vecu\t|Intraoperatives Vecuronium in mg (potentes Muskelrelaxans)\t|predictor\t|numerical\t|int64\n",
    "intraop_eph\t|Intraoperatives Ephedrin in mg (Alkaloid mit stimulierender Wirkung)\t|predictor\t|numerical\t|int64\n",
    "intraop_phe\t|Intraoperatives Phenylephrin in mcg (stimuliert die Erregungsübertragung, sodass die nach außen gerichtete Aktionsfähigkeit bei Belastungen erhöht wird)\t|predictor\t|numerical\t|int64\n",
    "intraop_epi\t|Intraoperatives Epinephrin in mcg (Adrenalin, wird in Stresssituationen ins Blut ausgeschüttet)\t|predictor\t|numerical\t|int64\n",
    "intraop_ca\t|Intraoperatives Kalziumchlorid in mg\t|predictor\t|numerical\t|int64\n"
   ]
  },
  {
   "cell_type": "markdown",
   "metadata": {},
   "source": [
    "## Setup"
   ]
  },
  {
   "cell_type": "code",
   "execution_count": null,
   "metadata": {},
   "outputs": [],
   "source": [
    "import pandas as pd\n",
    "import altair as alt\n",
    "import numpy as np\n",
    "import joblib\n",
    "import seaborn as sns\n",
    "\n",
    "\n",
    "from sklearn.feature_selection import SelectFromModel\n",
    "\n",
    "from sklearn.model_selection import train_test_split\n",
    "from sklearn.model_selection import cross_val_score\n",
    "from sklearn.inspection import permutation_importance\n",
    "\n",
    "from sklearn.linear_model import LinearRegression\n",
    "from sklearn.metrics import r2_score\n",
    "from sklearn.metrics import mean_squared_error\n",
    "from sklearn.metrics import mean_absolute_error\n",
    "\n",
    "import warnings\n",
    "warnings.simplefilter(action='ignore', category=FutureWarning)\n",
    "alt.data_transformers.disable_max_rows()\n",
    "\n"
   ]
  },
  {
   "attachments": {},
   "cell_type": "markdown",
   "metadata": {},
   "source": [
    "## Data Linear Regression"
   ]
  },
  {
   "cell_type": "markdown",
   "metadata": {},
   "source": [
    "## Import data"
   ]
  },
  {
   "cell_type": "code",
   "execution_count": null,
   "metadata": {},
   "outputs": [],
   "source": [
    "df = pd.read_csv(\"https://raw.githubusercontent.com/Maarv99/Project-applied-statistics/main/data/raw/clinical_data.csv\")"
   ]
  },
  {
   "attachments": {},
   "cell_type": "markdown",
   "metadata": {},
   "source": [
    "### Data structure"
   ]
  },
  {
   "cell_type": "code",
   "execution_count": null,
   "metadata": {},
   "outputs": [],
   "source": [
    "df"
   ]
  },
  {
   "cell_type": "code",
   "execution_count": null,
   "metadata": {},
   "outputs": [],
   "source": [
    "df.info()"
   ]
  },
  {
   "cell_type": "code",
   "execution_count": null,
   "metadata": {},
   "outputs": [],
   "source": [
    "df.describe().T"
   ]
  },
  {
   "cell_type": "markdown",
   "metadata": {},
   "source": [
    "### Data corrections"
   ]
  },
  {
   "cell_type": "code",
   "execution_count": null,
   "metadata": {},
   "outputs": [],
   "source": [
    "df['op_duration']=df['opend']-df['opstart']\n",
    "df=df.rename(columns={'caseend':'recording_duration','icu_days':'length_of_stay','intraop_ebl':'estimated_blood_loss'})"
   ]
  },
  {
   "cell_type": "code",
   "execution_count": null,
   "metadata": {},
   "outputs": [],
   "source": [
    "df['estimated_blood_loss'] = df['estimated_blood_loss'].fillna(0).astype(int)"
   ]
  },
  {
   "cell_type": "code",
   "execution_count": null,
   "metadata": {},
   "outputs": [],
   "source": [
    "# Die Spalte 'age' enthält u.a. die Zeichen \">89\" und \"0.7\". \n",
    "# Daher wird das Größer-als-Zeichen entfernt und die Werte gerundet, damit es zu int umwandelt werden kann. \n",
    "\n",
    "df['age'] = df['age'].str.replace('>89', '89').astype(float).round().astype(int)"
   ]
  },
  {
   "cell_type": "code",
   "execution_count": null,
   "metadata": {},
   "outputs": [],
   "source": [
    "# checking for NA\n",
    "df['recording_duration'].isnull().sum()"
   ]
  },
  {
   "cell_type": "code",
   "execution_count": null,
   "metadata": {},
   "outputs": [],
   "source": [
    "df['age'].isnull().sum()"
   ]
  },
  {
   "cell_type": "code",
   "execution_count": null,
   "metadata": {},
   "outputs": [],
   "source": [
    "df['asa'].isnull().sum()"
   ]
  },
  {
   "cell_type": "code",
   "execution_count": null,
   "metadata": {},
   "outputs": [],
   "source": [
    "df['bmi'].isnull().sum()"
   ]
  },
  {
   "cell_type": "code",
   "execution_count": null,
   "metadata": {},
   "outputs": [],
   "source": [
    "df['length_of_stay'].isnull().sum()"
   ]
  },
  {
   "cell_type": "code",
   "execution_count": null,
   "metadata": {},
   "outputs": [],
   "source": [
    "df['op_duration'].isnull().sum()"
   ]
  },
  {
   "cell_type": "code",
   "execution_count": null,
   "metadata": {},
   "outputs": [],
   "source": [
    "df['estimated_blood_loss'].isnull().sum()"
   ]
  },
  {
   "cell_type": "code",
   "execution_count": null,
   "metadata": {},
   "outputs": [],
   "source": [
    "# Spalte 'asa' hat 133 NAs. Diese werden durch den Median der Spalte ersetzt. \n",
    "df['asa'] = df['asa'].fillna(df['asa'].median())"
   ]
  },
  {
   "cell_type": "code",
   "execution_count": null,
   "metadata": {},
   "outputs": [],
   "source": [
    "# Vorgang prüfen\n",
    "df['asa'].isnull().sum()"
   ]
  },
  {
   "cell_type": "markdown",
   "metadata": {},
   "source": [
    "### Data splitting"
   ]
  },
  {
   "cell_type": "code",
   "execution_count": null,
   "metadata": {},
   "outputs": [],
   "source": [
    "df_Variables1=df[['recording_duration','age','asa','bmi','length_of_stay','op_duration','estimated_blood_loss']]"
   ]
  },
  {
   "cell_type": "code",
   "execution_count": null,
   "metadata": {},
   "outputs": [],
   "source": [
    "df_Variables1.info()"
   ]
  },
  {
   "cell_type": "markdown",
   "metadata": {},
   "source": [
    "### Variable lists"
   ]
  },
  {
   "cell_type": "code",
   "execution_count": null,
   "metadata": {},
   "outputs": [],
   "source": [
    "y_label = 'length_of_stay'\n",
    "\n",
    "features = ['recording_duration',\n",
    "            'age',\n",
    "            'asa',\n",
    "            'bmi',\n",
    "            'op_duration',\n",
    "            'estimated_blood_loss']\n",
    "\n",
    "X = df_Variables1[features]\n",
    "y = df_Variables1[y_label]"
   ]
  },
  {
   "cell_type": "code",
   "execution_count": null,
   "metadata": {},
   "outputs": [],
   "source": [
    "X_train, X_test, y_train, y_test = train_test_split(X, y, \n",
    "                                                    test_size=0.3,\n",
    "                                                    random_state=42)"
   ]
  },
  {
   "cell_type": "code",
   "execution_count": null,
   "metadata": {},
   "outputs": [],
   "source": [
    "# data exploration set\n",
    "df_train = pd.DataFrame(X_train.copy())\n",
    "df_train = df_train.join(pd.DataFrame(y_train))"
   ]
  },
  {
   "cell_type": "markdown",
   "metadata": {},
   "source": [
    "## Analysis"
   ]
  },
  {
   "cell_type": "markdown",
   "metadata": {},
   "source": [
    "### Descriptive statistics"
   ]
  },
  {
   "cell_type": "code",
   "execution_count": null,
   "metadata": {},
   "outputs": [],
   "source": [
    "df_train.describe().T"
   ]
  },
  {
   "cell_type": "code",
   "execution_count": null,
   "metadata": {},
   "outputs": [],
   "source": [
    "alt.Chart(df_train).mark_bar().encode(\n",
    "    alt.X(alt.repeat(\"column\"), type=\"quantitative\", bin=True),\n",
    "    y='count()',\n",
    ").properties(\n",
    "    width=150,\n",
    "    height=150\n",
    ").repeat(\n",
    "    column=['length_of_stay','age','asa','bmi','op_duration','estimated_blood_loss']\n",
    ")"
   ]
  },
  {
   "cell_type": "code",
   "execution_count": null,
   "metadata": {},
   "outputs": [],
   "source": [
    "df_train.corr()"
   ]
  },
  {
   "cell_type": "markdown",
   "metadata": {},
   "source": [
    "### Exploratory data analysis"
   ]
  },
  {
   "cell_type": "code",
   "execution_count": null,
   "metadata": {},
   "outputs": [],
   "source": [
    "alt.Chart(df_train).mark_circle().encode(\n",
    "    alt.X(alt.repeat(\"column\"), type='quantitative'),\n",
    "    alt.Y(alt.repeat(\"row\"), type='quantitative')\n",
    ").properties(\n",
    "    width=150,\n",
    "    height=150\n",
    ").repeat(\n",
    "    row=['length_of_stay','age','asa','bmi','op_duration','estimated_blood_loss'],\n",
    "    column=['length_of_stay','age','asa','bmi','op_duration','estimated_blood_loss']\n",
    ").interactive()"
   ]
  },
  {
   "cell_type": "markdown",
   "metadata": {},
   "source": [
    "### Relationships"
   ]
  },
  {
   "cell_type": "code",
   "execution_count": null,
   "metadata": {},
   "outputs": [],
   "source": [
    "# inspect correlation between outcome and possible predictors\n",
    "corr = df_train.corr()\n",
    "corr[y_label].sort_values(ascending=False)"
   ]
  },
  {
   "cell_type": "code",
   "execution_count": null,
   "metadata": {},
   "outputs": [],
   "source": [
    "# take a look at all correlations\n",
    "corr.style.background_gradient(cmap='Blues')"
   ]
  },
  {
   "cell_type": "code",
   "execution_count": null,
   "metadata": {},
   "outputs": [],
   "source": [
    "# Inspect correlation\n",
    "# Calculate correlation using the default method ( \"pearson\")\n",
    "corr = df_train.corr()\n",
    "# optimize aesthetics: generate mask for removing duplicate / unnecessary info\n",
    "mask = np.zeros_like(corr, dtype=bool)\n",
    "mask[np.triu_indices_from(mask)] = True\n",
    "# Generate a custom diverging colormap as indicator for correlations:\n",
    "cmap = sns.diverging_palette(220, 10, as_cmap=True)\n",
    "# Plot\n",
    "sns.heatmap(corr, mask=mask, cmap=cmap, annot=True,  square=True, annot_kws={\"size\": 12});"
   ]
  },
  {
   "cell_type": "markdown",
   "metadata": {},
   "source": [
    "## Model"
   ]
  },
  {
   "cell_type": "markdown",
   "metadata": {},
   "source": [
    "### Select model"
   ]
  },
  {
   "cell_type": "code",
   "execution_count": null,
   "metadata": {},
   "outputs": [],
   "source": [
    "reg = LinearRegression()"
   ]
  },
  {
   "cell_type": "markdown",
   "metadata": {},
   "source": [
    "### Training and validation"
   ]
  },
  {
   "cell_type": "code",
   "execution_count": null,
   "metadata": {},
   "outputs": [],
   "source": [
    "# cross-validation with 5 folds\n",
    "scores = cross_val_score(reg, X_train, y_train, cv=5, scoring='neg_mean_squared_error') *-1"
   ]
  },
  {
   "cell_type": "code",
   "execution_count": null,
   "metadata": {},
   "outputs": [],
   "source": [
    "# store cross-validation scores\n",
    "df_scores = pd.DataFrame({\"lr\": scores})\n",
    "\n",
    "# reset index to match the number of folds\n",
    "df_scores.index += 1\n",
    "\n",
    "# print dataframe\n",
    "df_scores.style.background_gradient(cmap='Blues')"
   ]
  },
  {
   "cell_type": "code",
   "execution_count": null,
   "metadata": {},
   "outputs": [],
   "source": [
    "alt.Chart(df_scores.reset_index()).mark_line(\n",
    "     point=alt.OverlayMarkDef()\n",
    ").encode(\n",
    "    x=alt.X(\"index\", bin=False, title=\"Fold\", axis=alt.Axis(tickCount=5)),\n",
    "    y=alt.Y(\"lr\", aggregate=\"mean\", title=\"Mean squared error (MSE)\")\n",
    ")"
   ]
  },
  {
   "cell_type": "code",
   "execution_count": null,
   "metadata": {},
   "outputs": [],
   "source": [
    "df_scores.describe().T"
   ]
  },
  {
   "cell_type": "markdown",
   "metadata": {},
   "source": [
    "### Fit model"
   ]
  },
  {
   "cell_type": "code",
   "execution_count": null,
   "metadata": {},
   "outputs": [],
   "source": [
    "# Fit the model to the complete training data\n",
    "reg.fit(X_train, y_train)"
   ]
  },
  {
   "cell_type": "code",
   "execution_count": null,
   "metadata": {},
   "outputs": [],
   "source": [
    "# intercept\n",
    "intercept = pd.DataFrame({\n",
    "    \"Name\": [\"Intercept\"],\n",
    "    \"Coefficient\":[reg.intercept_]}\n",
    "    )\n",
    "\n",
    "# make a slope table\n",
    "slope = pd.DataFrame({\n",
    "    \"Name\": features,\n",
    "    \"Coefficient\": reg.coef_}\n",
    ")\n",
    "\n",
    "# combine estimates of intercept and slopes\n",
    "table = pd.concat([intercept, slope], ignore_index=True, sort=False)\n",
    "\n",
    "round(table, 3)"
   ]
  },
  {
   "cell_type": "markdown",
   "metadata": {},
   "source": [
    "### Evaluation on test set"
   ]
  },
  {
   "cell_type": "code",
   "execution_count": null,
   "metadata": {},
   "outputs": [],
   "source": [
    "# obtain predictions\n",
    "y_pred = reg.predict(X_test)"
   ]
  },
  {
   "cell_type": "code",
   "execution_count": null,
   "metadata": {},
   "outputs": [],
   "source": [
    "# R squared\n",
    "r2_score(y_test, y_pred).round(3)"
   ]
  },
  {
   "cell_type": "code",
   "execution_count": null,
   "metadata": {},
   "outputs": [],
   "source": [
    "# Adjusted R squared\n",
    "print((1-(1-r2_score(y_test, y_pred))*((len(X_test)-1)/(len(X_test)-len(X_test.columns)-1))).round(3))"
   ]
  },
  {
   "cell_type": "code",
   "execution_count": null,
   "metadata": {},
   "outputs": [],
   "source": [
    "# MSE\n",
    "mean_squared_error(y_test, y_pred).round(3)"
   ]
  },
  {
   "cell_type": "code",
   "execution_count": null,
   "metadata": {},
   "outputs": [],
   "source": [
    "# RMSE\n",
    "mean_squared_error(y_test, y_pred, squared=False).round(3)"
   ]
  },
  {
   "cell_type": "code",
   "execution_count": null,
   "metadata": {},
   "outputs": [],
   "source": [
    "# MAE\n",
    "mean_absolute_error(y_test, y_pred).round(3)"
   ]
  },
  {
   "attachments": {},
   "cell_type": "markdown",
   "metadata": {},
   "source": [
    "### Feature importance"
   ]
  },
  {
   "cell_type": "code",
   "execution_count": null,
   "metadata": {},
   "outputs": [],
   "source": [
    "importance = np.abs(reg.coef_)\n",
    "\n",
    "df_imp = pd.DataFrame({\"coeff\": importance, \n",
    "                       \"name\": features})\n",
    "df_imp"
   ]
  },
  {
   "cell_type": "code",
   "execution_count": null,
   "metadata": {},
   "outputs": [],
   "source": [
    "alt.Chart(df_imp).mark_bar().encode(\n",
    "    x=\"coeff\",\n",
    "    y=alt.Y(\"name\", sort='-x')\n",
    ")"
   ]
  },
  {
   "attachments": {},
   "cell_type": "markdown",
   "metadata": {},
   "source": [
    "### Auswahl der Variablen\n",
    "Wir prüfen, ob das Modell besser wird, wenn wir Variablen nicht berücksichtigen. Dabei berechnen wir das Modell erneut und nehmen sukzessiv Variablen hinzu. Wir starten mit der Variablen, welche den größten Einflussfaktor hat: 'asa'.\n",
    "\n",
    "#### Modell mit der Variable 'asa'"
   ]
  },
  {
   "cell_type": "code",
   "execution_count": null,
   "metadata": {},
   "outputs": [],
   "source": [
    "y_label2 = 'length_of_stay'\n",
    "\n",
    "features2 = [#'recording_duration',\n",
    "            #'age',\n",
    "            'asa',\n",
    "            #'bmi',\n",
    "            #'op_duration',\n",
    "            #'estimated_blood_loss'\n",
    "            ]\n",
    "\n",
    "X2 = df_Variables1[features2]\n",
    "y2 = df_Variables1[y_label2]\n",
    "\n",
    "X_train2, X_test2, y_train2, y_test2 = train_test_split(X2, y2, \n",
    "                                                    test_size=0.3,\n",
    "                                                    random_state=42)\n",
    "\n",
    "reg.fit(X_train2, y_train2)\n",
    "y_pred2 = reg.predict(X_test2)\n",
    "\n",
    "print(\"R squared:\")\n",
    "print(r2_score(y_test2, y_pred2).round(3))\n",
    "print(\"Adjusted R squared:\")\n",
    "print((1-(1-r2_score(y_test2, y_pred2))*((len(X_test2)-1)/(len(X_test2)-len(X_test2.columns)-1))).round(3))\n",
    "print(\"RMSE:\")\n",
    "print(mean_squared_error(y_test2, y_pred2, squared=False).round(3))\n",
    "print(\"MSE:\")\n",
    "print(mean_squared_error(y_test2, y_pred2).round(3))\n",
    "print(\"MAE:\")\n",
    "print(mean_absolute_error(y_test2, y_pred2).round(3))"
   ]
  },
  {
   "attachments": {},
   "cell_type": "markdown",
   "metadata": {},
   "source": [
    "#### Variable 'bmi'\n",
    "Wir nehmen nun die Variable mit dem nächst höchste Einflussfaktor hinzu: 'bmi'."
   ]
  },
  {
   "cell_type": "code",
   "execution_count": null,
   "metadata": {},
   "outputs": [],
   "source": [
    "y_label3 = 'length_of_stay'\n",
    "\n",
    "features3 = [#'recording_duration',\n",
    "            #'age',\n",
    "            'asa',\n",
    "            'bmi',\n",
    "            #'op_duration',\n",
    "            #'estimated_blood_loss'\n",
    "            ]\n",
    "\n",
    "X3 = df_Variables1[features3]\n",
    "y3 = df_Variables1[y_label3]\n",
    "\n",
    "X_train3, X_test3, y_train3, y_test3 = train_test_split(X3, y3, \n",
    "                                                    test_size=0.3,\n",
    "                                                    random_state=42)\n",
    "\n",
    "reg.fit(X_train3, y_train3)\n",
    "y_pred3 = reg.predict(X_test3)\n",
    "\n",
    "print(\"R squared:\")\n",
    "print(r2_score(y_test3, y_pred3).round(3))\n",
    "print(\"Adjusted R squared:\")\n",
    "print((1-(1-r2_score(y_test3, y_pred3))*((len(X_test3)-1)/(len(X_test3)-len(X_test3.columns)-1))).round(3))\n",
    "print(\"RMSE:\")\n",
    "print(mean_squared_error(y_test3, y_pred3, squared=False).round(3))\n",
    "print(\"MSE:\")\n",
    "print(mean_squared_error(y_test3, y_pred3).round(3))\n",
    "print(\"MAE:\")\n",
    "print(mean_absolute_error(y_test3, y_pred3).round(3))"
   ]
  },
  {
   "attachments": {},
   "cell_type": "markdown",
   "metadata": {},
   "source": [
    "Wir sehen, dass die Ergebnisse des Models sich weiter verbessert haben, daher belassen wir die Variable 'bmi' im Modell und nehmen die Variable 'age' hinzu. \n",
    "#### Variable 'age' "
   ]
  },
  {
   "cell_type": "code",
   "execution_count": null,
   "metadata": {},
   "outputs": [],
   "source": [
    "y_label4 = 'length_of_stay'\n",
    "\n",
    "features4 = [#'recording_duration',\n",
    "            'age',\n",
    "            'asa',\n",
    "            'bmi',\n",
    "            #'op_duration',\n",
    "            #'estimated_blood_loss'\n",
    "            ]\n",
    "\n",
    "X4 = df_Variables1[features4]\n",
    "y4 = df_Variables1[y_label4]\n",
    "\n",
    "X_train4, X_test4, y_train4, y_test4 = train_test_split(X4, y4, \n",
    "                                                    test_size=0.3,\n",
    "                                                    random_state=42)\n",
    "\n",
    "reg.fit(X_train4, y_train4)\n",
    "y_pred4 = reg.predict(X_test4)\n",
    "\n",
    "print(\"R squared:\")\n",
    "print(r2_score(y_test4, y_pred4).round(3))\n",
    "print(\"Adjusted R squared:\")\n",
    "print((1-(1-r2_score(y_test4, y_pred4))*((len(X_test4)-1)/(len(X_test4)-len(X_test4.columns)-1))).round(3))\n",
    "print(\"RMSE:\")\n",
    "print(mean_squared_error(y_test4, y_pred4, squared=False).round(3))\n",
    "print(\"MSE:\")\n",
    "print(mean_squared_error(y_test4, y_pred4).round(3))\n",
    "print(\"MAE:\")\n",
    "print(mean_absolute_error(y_test4, y_pred4).round(3))"
   ]
  },
  {
   "attachments": {},
   "cell_type": "markdown",
   "metadata": {},
   "source": [
    "Das Modell verbessert sich weiterhin. "
   ]
  },
  {
   "attachments": {},
   "cell_type": "markdown",
   "metadata": {},
   "source": [
    "#### Variable 'estimated_blood_loss' \n",
    "Wird ebenfalls in das Modell aufgenommen. "
   ]
  },
  {
   "cell_type": "code",
   "execution_count": null,
   "metadata": {},
   "outputs": [],
   "source": [
    "y_label5 = 'length_of_stay'\n",
    "\n",
    "features5 = [#'recording_duration',\n",
    "            'age',\n",
    "            'asa',\n",
    "            'bmi',\n",
    "            #'op_duration',\n",
    "            'estimated_blood_loss'\n",
    "            ]\n",
    "\n",
    "X5 = df_Variables1[features5]\n",
    "y5 = df_Variables1[y_label5]\n",
    "\n",
    "X_train5, X_test5, y_train5, y_test5 = train_test_split(X5, y5, \n",
    "                                                    test_size=0.3,\n",
    "                                                    random_state=52)\n",
    "\n",
    "reg.fit(X_train5, y_train5)\n",
    "y_pred5 = reg.predict(X_test5)\n",
    "\n",
    "print(\"R squared:\")\n",
    "print(r2_score(y_test5, y_pred5).round(3))\n",
    "print(\"Adjusted R squared:\")\n",
    "print((1-(1-r2_score(y_test5, y_pred5))*((len(X_test5)-1)/(len(X_test5)-len(X_test5.columns)-1))).round(3))\n",
    "print(\"RMSE:\")\n",
    "print(mean_squared_error(y_test5, y_pred5, squared=False).round(3))\n",
    "print(\"MSE:\")\n",
    "print(mean_squared_error(y_test5, y_pred5).round(3))\n",
    "print(\"MAE:\")\n",
    "print(mean_absolute_error(y_test5, y_pred5).round(3))"
   ]
  },
  {
   "attachments": {},
   "cell_type": "markdown",
   "metadata": {},
   "source": [
    "Das Modell verbessert sich weiter.\n",
    "#### Variable 'op_duration'\n",
    "Wird als Feature hinzugefügt. "
   ]
  },
  {
   "cell_type": "code",
   "execution_count": null,
   "metadata": {},
   "outputs": [],
   "source": [
    "y_label6 = 'length_of_stay'\n",
    "\n",
    "features6 = [#'recording_duration',\n",
    "            'age',\n",
    "            'asa',\n",
    "            'bmi',\n",
    "            'op_duration',\n",
    "            'estimated_blood_loss'\n",
    "            ]\n",
    "\n",
    "X6 = df_Variables1[features6]\n",
    "y6 = df_Variables1[y_label6]\n",
    "\n",
    "X_train6, X_test6, y_train6, y_test6 = train_test_split(X6, y6, \n",
    "                                                    test_size=0.3,\n",
    "                                                    random_state=62)\n",
    "\n",
    "reg.fit(X_train6, y_train6)\n",
    "y_pred6 = reg.predict(X_test6)\n",
    "\n",
    "print(\"R squared:\")\n",
    "print(r2_score(y_test6, y_pred6).round(3))\n",
    "print(\"Adjusted R squared:\")\n",
    "print((1-(1-r2_score(y_test6, y_pred6))*((len(X_test6)-1)/(len(X_test6)-len(X_test6.columns)-1))).round(3))\n",
    "print(\"RMSE:\")\n",
    "print(mean_squared_error(y_test6, y_pred6, squared=False).round(3))\n",
    "print(\"MSE:\")\n",
    "print(mean_squared_error(y_test6, y_pred6).round(3))\n",
    "print(\"MAE:\")\n",
    "print(mean_absolute_error(y_test6, y_pred6).round(3))"
   ]
  },
  {
   "attachments": {},
   "cell_type": "markdown",
   "metadata": {},
   "source": [
    "Es scheint so, als wäre das Modell mit allen Prediktoren, das mit der höchsten Güte."
   ]
  },
  {
   "cell_type": "code",
   "execution_count": null,
   "metadata": {},
   "outputs": [],
   "source": [
    "y_label7 = 'length_of_stay'\n",
    "\n",
    "features7 = ['recording_duration',\n",
    "            'age',\n",
    "            'asa',\n",
    "            'bmi',\n",
    "            'op_duration',\n",
    "            'estimated_blood_loss'\n",
    "            ]\n",
    "\n",
    "X7 = df_Variables1[features7]\n",
    "y7 = df_Variables1[y_label7]\n",
    "\n",
    "X_train7, X_test7, y_train7, y_test7 = train_test_split(X7, y7, \n",
    "                                                    test_size=0.3,\n",
    "                                                    random_state=72)\n",
    "\n",
    "reg.fit(X_train7, y_train7)\n",
    "y_pred7 = reg.predict(X_test7)\n",
    "\n",
    "print(\"R squared:\")\n",
    "print(r2_score(y_test7, y_pred7).round(3))\n",
    "print(\"Adjusted R squared:\")\n",
    "print((1-(1-r2_score(y_test7, y_pred7))*((len(X_test7)-1)/(len(X_test7)-len(X_test7.columns)-1))).round(3))\n",
    "print(\"RMSE:\")\n",
    "print(mean_squared_error(y_test7, y_pred7, squared=False).round(3))\n",
    "print(\"MSE:\")\n",
    "print(mean_squared_error(y_test7, y_pred7).round(3))\n",
    "print(\"MAE:\")\n",
    "print(mean_absolute_error(y_test7, y_pred7).round(3))"
   ]
  },
  {
   "cell_type": "markdown",
   "metadata": {},
   "source": [
    "### Save model\n"
   ]
  },
  {
   "cell_type": "markdown",
   "metadata": {},
   "source": [
    "\n",
    "Save your model in the folder `models/`. Use a meaningful name and a timestamp."
   ]
  },
  {
   "cell_type": "code",
   "execution_count": null,
   "metadata": {},
   "outputs": [],
   "source": [
    "# joblib.dump(reg, 'C:/Users/Alex_/Documents/as_projekt/Project-applied-statistics/models/linreg_27-12-22_16-54')"
   ]
  },
  {
   "attachments": {},
   "cell_type": "markdown",
   "metadata": {},
   "source": [
    "## Data Lasso regression"
   ]
  },
  {
   "cell_type": "code",
   "execution_count": null,
   "metadata": {},
   "outputs": [],
   "source": [
    "from statsmodels.formula.api import ols"
   ]
  },
  {
   "attachments": {},
   "cell_type": "markdown",
   "metadata": {},
   "source": [
    "## Import Data"
   ]
  },
  {
   "cell_type": "code",
   "execution_count": null,
   "metadata": {},
   "outputs": [],
   "source": [
    "import numpy as np\n",
    "import pandas as pd\n",
    "import altair as alt\n",
    "import joblib\n",
    "import seaborn as sns\n",
    "\n",
    "from sklearn.model_selection import train_test_split\n",
    "from sklearn.model_selection import cross_val_score\n",
    "from sklearn.preprocessing import StandardScaler\n",
    "from sklearn.linear_model import LassoCV\n",
    "from sklearn.linear_model import Lasso\n",
    "from sklearn.metrics import r2_score\n",
    "from sklearn.metrics import mean_squared_error\n",
    "from sklearn.metrics import mean_absolute_error\n",
    "\n",
    "import warnings\n",
    "warnings.simplefilter(action='ignore', category=FutureWarning)\n",
    "alt.data_transformers.disable_max_rows()"
   ]
  },
  {
   "cell_type": "code",
   "execution_count": null,
   "metadata": {},
   "outputs": [],
   "source": [
    "df = pd.read_csv(\"https://raw.githubusercontent.com/Maarv99/Project-applied-statistics/main/data/raw/clinical_data.csv\")"
   ]
  },
  {
   "attachments": {},
   "cell_type": "markdown",
   "metadata": {},
   "source": [
    "### Data preparation"
   ]
  },
  {
   "cell_type": "code",
   "execution_count": null,
   "metadata": {},
   "outputs": [],
   "source": [
    "df['op_duration']=df['opend']-df['opstart']\n",
    "df=df.rename(columns={'caseend':'recording_duration','icu_days':'length_of_stay','intraop_ebl':'estimated_blood_loss'})"
   ]
  },
  {
   "cell_type": "code",
   "execution_count": null,
   "metadata": {},
   "outputs": [],
   "source": [
    "df['estimated_blood_loss'] = df['estimated_blood_loss'].fillna(0).astype(int)"
   ]
  },
  {
   "cell_type": "code",
   "execution_count": null,
   "metadata": {},
   "outputs": [],
   "source": [
    "# Die Spalte 'age' enthält u.a. die Zeichen \">89\" und \"0.7\". \n",
    "# Daher wird das Größer-als-Zeichen entfernt und die Werte gerundet, damit es zu int umwandelt werden kann. \n",
    "\n",
    "df['age'] = df['age'].str.replace('>89', '89').astype(float).round().astype(int)"
   ]
  },
  {
   "cell_type": "code",
   "execution_count": null,
   "metadata": {},
   "outputs": [],
   "source": [
    "# checking for NA\n",
    "df['recording_duration'].isnull().sum()"
   ]
  },
  {
   "cell_type": "code",
   "execution_count": null,
   "metadata": {},
   "outputs": [],
   "source": [
    "df['age'].isnull().sum()"
   ]
  },
  {
   "cell_type": "code",
   "execution_count": null,
   "metadata": {},
   "outputs": [],
   "source": [
    "df['asa'].isnull().sum()"
   ]
  },
  {
   "cell_type": "code",
   "execution_count": null,
   "metadata": {},
   "outputs": [],
   "source": [
    "df['bmi'].isnull().sum()"
   ]
  },
  {
   "cell_type": "code",
   "execution_count": null,
   "metadata": {},
   "outputs": [],
   "source": [
    "df['length_of_stay'].isnull().sum()"
   ]
  },
  {
   "cell_type": "code",
   "execution_count": null,
   "metadata": {},
   "outputs": [],
   "source": [
    "df['op_duration'].isnull().sum()"
   ]
  },
  {
   "cell_type": "code",
   "execution_count": null,
   "metadata": {},
   "outputs": [],
   "source": [
    "df['estimated_blood_loss'].isnull().sum()"
   ]
  },
  {
   "cell_type": "code",
   "execution_count": null,
   "metadata": {},
   "outputs": [],
   "source": [
    "# Spalte 'asa' hat 133 NA. Diese entfernen und durch Median der Spalte ersetzten. \n",
    "df['asa'] = df['asa'].fillna(df['asa'].median())"
   ]
  },
  {
   "cell_type": "code",
   "execution_count": null,
   "metadata": {},
   "outputs": [],
   "source": [
    "# Vorgang prüfen\n",
    "df['asa'].isnull().sum()"
   ]
  },
  {
   "cell_type": "markdown",
   "metadata": {},
   "source": [
    "### Data splitting"
   ]
  },
  {
   "cell_type": "code",
   "execution_count": null,
   "metadata": {},
   "outputs": [],
   "source": [
    "df_Variables1=df[['recording_duration','age','asa','bmi','length_of_stay','op_duration','estimated_blood_loss']]"
   ]
  },
  {
   "cell_type": "code",
   "execution_count": null,
   "metadata": {},
   "outputs": [],
   "source": [
    "df_Variables1.info() "
   ]
  },
  {
   "cell_type": "markdown",
   "metadata": {},
   "source": [
    "### Variable lists"
   ]
  },
  {
   "cell_type": "code",
   "execution_count": null,
   "metadata": {},
   "outputs": [],
   "source": [
    "y_label = 'length_of_stay'\n",
    "\n",
    "features = ['recording_duration',\n",
    "            'age',\n",
    "            'asa',\n",
    "            'bmi',\n",
    "            'op_duration',\n",
    "            'estimated_blood_loss']\n",
    "\n",
    "X = df_Variables1[features]\n",
    "y = df_Variables1[y_label]"
   ]
  },
  {
   "cell_type": "code",
   "execution_count": null,
   "metadata": {},
   "outputs": [],
   "source": [
    "X_train, X_test, y_train, y_test = train_test_split(X, y, \n",
    "                                                    test_size=0.2,\n",
    "                                                    random_state=42)"
   ]
  },
  {
   "cell_type": "code",
   "execution_count": null,
   "metadata": {},
   "outputs": [],
   "source": [
    "# data exploration set\n",
    "df_train = pd.DataFrame(X_train.copy())\n",
    "df_train = df_train.join(pd.DataFrame(y_train))"
   ]
  },
  {
   "cell_type": "markdown",
   "metadata": {},
   "source": [
    "## Analysis"
   ]
  },
  {
   "cell_type": "code",
   "execution_count": null,
   "metadata": {},
   "outputs": [],
   "source": [
    "df_train.describe().T"
   ]
  },
  {
   "cell_type": "code",
   "execution_count": null,
   "metadata": {},
   "outputs": [],
   "source": [
    "alt.Chart(df).mark_bar().encode(\n",
    "    alt.X(alt.repeat(\"column\"), type=\"quantitative\", bin=True),\n",
    "    y='count()',\n",
    ").properties(\n",
    "    width=150,\n",
    "    height=150\n",
    ").repeat(\n",
    "    column=['length_of_stay','age','asa','bmi','op_duration','estimated_blood_loss']\n",
    ")"
   ]
  },
  {
   "cell_type": "code",
   "execution_count": null,
   "metadata": {},
   "outputs": [],
   "source": [
    "alt.Chart(df).mark_circle().encode(\n",
    "    alt.X(alt.repeat(\"column\"), type='quantitative'),\n",
    "    alt.Y(alt.repeat(\"row\"), type='quantitative')\n",
    ").properties(\n",
    "    width=150,\n",
    "    height=150\n",
    ").repeat(\n",
    "    row=['length_of_stay','age','asa','bmi','op_duration','estimated_blood_loss'],\n",
    "    column=['length_of_stay','age','asa','bmi','op_duration','estimated_blood_loss']\n",
    ").interactive()"
   ]
  },
  {
   "cell_type": "markdown",
   "metadata": {},
   "source": [
    "### Relationships"
   ]
  },
  {
   "cell_type": "code",
   "execution_count": null,
   "metadata": {},
   "outputs": [],
   "source": [
    "# inspect correlation between outcome and possible predictors\n",
    "corr = df_train.corr()\n",
    "corr[y_label].sort_values(ascending=False)"
   ]
  },
  {
   "cell_type": "code",
   "execution_count": null,
   "metadata": {},
   "outputs": [],
   "source": [
    "# take a look at all correlations\n",
    "corr.style.background_gradient(cmap='Blues')"
   ]
  },
  {
   "cell_type": "code",
   "execution_count": null,
   "metadata": {},
   "outputs": [],
   "source": [
    "# Inspect correlation\n",
    "# Calculate correlation using the default method ( \"pearson\")\n",
    "corr = df_train.corr()\n",
    "# optimize aesthetics: generate mask for removing duplicate / unnecessary info\n",
    "mask = np.zeros_like(corr, dtype=bool)\n",
    "mask[np.triu_indices_from(mask)] = True\n",
    "# Generate a custom diverging colormap as indicator for correlations:\n",
    "cmap = sns.diverging_palette(220, 10, as_cmap=True)\n",
    "# Plot\n",
    "sns.heatmap(corr, mask=mask, cmap=cmap, annot=True,  square=True, annot_kws={\"size\": 12});"
   ]
  },
  {
   "cell_type": "markdown",
   "metadata": {},
   "source": [
    "## Model"
   ]
  },
  {
   "attachments": {},
   "cell_type": "markdown",
   "metadata": {},
   "source": [
    "### Prepare data for model"
   ]
  },
  {
   "cell_type": "code",
   "execution_count": null,
   "metadata": {},
   "outputs": [],
   "source": [
    "scaler = StandardScaler().fit(X_train[features]) \n",
    "\n",
    "X_train[features] = scaler.transform(X_train[features])\n",
    "X_test[features] = scaler.transform(X_test[features])"
   ]
  },
  {
   "cell_type": "code",
   "execution_count": null,
   "metadata": {},
   "outputs": [],
   "source": [
    "X_train"
   ]
  },
  {
   "cell_type": "markdown",
   "metadata": {},
   "source": [
    "### Select model"
   ]
  },
  {
   "cell_type": "code",
   "execution_count": null,
   "metadata": {},
   "outputs": [],
   "source": [
    "# select the lasso model with built in crossvalidation\n",
    "reg = LassoCV(cv=5, random_state=0)"
   ]
  },
  {
   "attachments": {},
   "cell_type": "markdown",
   "metadata": {},
   "source": [
    "### Training and best alpha"
   ]
  },
  {
   "cell_type": "code",
   "execution_count": null,
   "metadata": {},
   "outputs": [],
   "source": [
    "reg.fit(X_train, y_train)"
   ]
  },
  {
   "cell_type": "code",
   "execution_count": null,
   "metadata": {},
   "outputs": [],
   "source": [
    "reg.alpha_"
   ]
  },
  {
   "attachments": {},
   "cell_type": "markdown",
   "metadata": {},
   "source": [
    "### Fit best model"
   ]
  },
  {
   "cell_type": "code",
   "execution_count": null,
   "metadata": {},
   "outputs": [],
   "source": [
    "# Fit the model to the complete training data\n",
    "regla = Lasso(alpha=reg.alpha_)\n",
    "regla.fit(X_train, y_train)"
   ]
  },
  {
   "cell_type": "code",
   "execution_count": null,
   "metadata": {},
   "outputs": [],
   "source": [
    "# intercept\n",
    "intercept = pd.DataFrame({\n",
    "    \"Name\": [\"Intercept\"],\n",
    "    \"Coefficient\":[reg.intercept_]}\n",
    "    )\n",
    "\n",
    "# make a slope table\n",
    "slope = pd.DataFrame({\n",
    "    \"Name\": features,\n",
    "    \"Coefficient\": reg.coef_}\n",
    ")\n",
    "\n",
    "# combine estimates of intercept and slopes\n",
    "table = pd.concat([intercept, slope], ignore_index=True, sort=False)\n",
    "\n",
    "round(table, 3)"
   ]
  },
  {
   "cell_type": "markdown",
   "metadata": {},
   "source": [
    "### Evaluation on test set"
   ]
  },
  {
   "cell_type": "code",
   "execution_count": null,
   "metadata": {},
   "outputs": [],
   "source": [
    "# obtain predictions\n",
    "y_pred = reg.predict(X_test)"
   ]
  },
  {
   "cell_type": "code",
   "execution_count": null,
   "metadata": {},
   "outputs": [],
   "source": [
    "# R squared\n",
    "r2_score(y_test, y_pred).round(3)"
   ]
  },
  {
   "cell_type": "code",
   "execution_count": null,
   "metadata": {},
   "outputs": [],
   "source": [
    "# Adjusted R squared\n",
    "print((1-(1-r2_score(y_test, y_pred))*((len(X_test)-1)/(len(X_test)-len(X_test.columns)-1))).round(3))"
   ]
  },
  {
   "cell_type": "code",
   "execution_count": null,
   "metadata": {},
   "outputs": [],
   "source": [
    "# MSE\n",
    "mean_squared_error(y_test, y_pred).round(3)"
   ]
  },
  {
   "cell_type": "code",
   "execution_count": null,
   "metadata": {},
   "outputs": [],
   "source": [
    "# RMSE\n",
    "mean_squared_error(y_test, y_pred, squared=False).round(3)"
   ]
  },
  {
   "cell_type": "code",
   "execution_count": null,
   "metadata": {},
   "outputs": [],
   "source": [
    "# MAE\n",
    "mean_absolute_error(y_test, y_pred).round(3)"
   ]
  },
  {
   "cell_type": "markdown",
   "metadata": {},
   "source": [
    "### Save model\n"
   ]
  },
  {
   "cell_type": "markdown",
   "metadata": {},
   "source": [
    "\n",
    "Save your model in the folder `models/`. Use a meaningful name and a timestamp."
   ]
  },
  {
   "cell_type": "code",
   "execution_count": null,
   "metadata": {},
   "outputs": [],
   "source": [
    "# joblib.dump(reg, 'C:/Users/Alex_/Documents/as_projekt/Project-applied-statistics/models/lassoreg_27-12-22_16-57')"
   ]
  },
  {
   "cell_type": "markdown",
   "metadata": {},
   "source": [
    "## Conclusions"
   ]
  },
  {
   "attachments": {},
   "cell_type": "markdown",
   "metadata": {},
   "source": [
    "### Lineares Regressionsmodell:\n",
    "Den größten Einfluss auf unser Modell hat die Variable der ASA-Klassifikation.\n",
    "\n",
    "Unser Modell wird nicht besser, wenn wir eine der verwendeten Variablen ausschließen. \n",
    "\n",
    "Wir sehen ein kleines R² unseres Modells, was eine geringe Güte des Modells bedeutet. Etwa 18% der Variabilität der Aufenthaltsdauer wird durch das Modell erklärt.\n",
    "Des Weiteren zeigt der mean squared error der einzelnen Folds, dass es sich um kein sehr stabiles Modell handelt. \n",
    "\n",
    "### Lasso Regressionsmodell:\n",
    "Wir sehen ein kleines R² unseres Modells, was eine geringe Güte des Modells bedeutet. Die Güte ist sogar noch etwas unter der des linearem Regressionsmodells. Etwa 11,8% der Variabilität der Aufenthaltsdauer wird durch das Modell erklärt.\n",
    "Anhand des bereinigten R² sehen wir, das lineare Regressionsmodell ist dem Lasso Regressionsmodell gegenüber zu bevorzugen.\n",
    "\n",
    "Der mean squared error, root mean squared error und der mean absolute error fallen höher, und somit schlechter aus als beim linearen Regressionsmodell. Dementsprechend ist das lineare Regressionsmodell dem lasso Regressionsmodell zu bevorzugen. "
   ]
  }
 ],
 "metadata": {
  "kernelspec": {
   "display_name": "stats",
   "language": "python",
   "name": "python3"
  },
  "language_info": {
   "codemirror_mode": {
    "name": "ipython",
    "version": 3
   },
   "file_extension": ".py",
   "mimetype": "text/x-python",
   "name": "python",
   "nbconvert_exporter": "python",
   "pygments_lexer": "ipython3",
   "version": "3.9.15 | packaged by conda-forge | (main, Nov 22 2022, 08:39:05) [MSC v.1929 64 bit (AMD64)]"
  },
  "orig_nbformat": 4,
  "vscode": {
   "interpreter": {
    "hash": "a7e2a3bf7b76ff061ee41dbe46e6802f507aa07c5166dcea64cd485c3d51401f"
   }
  }
 },
 "nbformat": 4,
 "nbformat_minor": 2
}
